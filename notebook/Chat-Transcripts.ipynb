{
 "cells": [
  {
   "cell_type": "markdown",
   "metadata": {},
   "source": [
    "# Chat Transcript"
   ]
  },
  {
   "cell_type": "markdown",
   "metadata": {},
   "source": [
    "## 1. Setup\n",
    "\n",
    "To prepare your environment, you need to install some packages and enter credentials for the Watson services.\n"
   ]
  },
  {
   "cell_type": "markdown",
   "metadata": {},
   "source": [
    "## 1.1 Install the necessary packages\n",
    "\n",
    "You need the latest versions of these packages:\n",
    "\n",
    "python-docx: To read from a docx file   \n",
    "Watson Developer Cloud: a client library for Watson services                                                                                                                 \n",
    "nltk: Leading platform for building Python programs to work with human language data.\n"
   ]
  },
  {
   "cell_type": "markdown",
   "metadata": {},
   "source": [
    "### Install python-docx"
   ]
  },
  {
   "cell_type": "code",
   "execution_count": 1,
   "metadata": {},
   "outputs": [
    {
     "name": "stdout",
     "output_type": "stream",
     "text": [
      "Requirement not upgraded as not directly required: python-docx in /opt/conda/envs/DSX-Python35/lib/python3.5/site-packages\r\n",
      "Requirement not upgraded as not directly required: lxml>=2.3.2 in /opt/conda/envs/DSX-Python35/lib/python3.5/site-packages (from python-docx)\r\n"
     ]
    }
   ],
   "source": [
    "!pip install python-docx"
   ]
  },
  {
   "cell_type": "markdown",
   "metadata": {},
   "source": [
    "### Install Watson Developer Cloud"
   ]
  },
  {
   "cell_type": "code",
   "execution_count": 2,
   "metadata": {},
   "outputs": [
    {
     "name": "stdout",
     "output_type": "stream",
     "text": [
      "Requirement not upgraded as not directly required: watson-developer-cloud in /opt/conda/envs/DSX-Python35/lib/python3.5/site-packages\n",
      "Requirement not upgraded as not directly required: autobahn>=0.10.9 in /opt/conda/envs/DSX-Python35/lib/python3.5/site-packages (from watson-developer-cloud)\n",
      "Requirement not upgraded as not directly required: python-dateutil>=2.5.3 in /opt/conda/envs/DSX-Python35/lib/python3.5/site-packages (from watson-developer-cloud)\n",
      "Requirement not upgraded as not directly required: service-identity>=17.0.0 in /opt/conda/envs/DSX-Python35/lib/python3.5/site-packages (from watson-developer-cloud)\n",
      "Requirement not upgraded as not directly required: Twisted>=13.2.0 in /opt/conda/envs/DSX-Python35/lib/python3.5/site-packages (from watson-developer-cloud)\n",
      "Requirement not upgraded as not directly required: pyOpenSSL>=16.2.0 in /opt/conda/envs/DSX-Python35/lib/python3.5/site-packages (from watson-developer-cloud)\n",
      "Requirement not upgraded as not directly required: requests<3.0,>=2.0 in /opt/conda/envs/DSX-Python35/lib/python3.5/site-packages (from watson-developer-cloud)\n",
      "Requirement not upgraded as not directly required: txaio>=2.10.0 in /opt/conda/envs/DSX-Python35/lib/python3.5/site-packages (from autobahn>=0.10.9->watson-developer-cloud)\n",
      "Requirement not upgraded as not directly required: six>=1.10.0 in /opt/conda/envs/DSX-Python35/lib/python3.5/site-packages (from autobahn>=0.10.9->watson-developer-cloud)\n",
      "Requirement not upgraded as not directly required: attrs in /opt/conda/envs/DSX-Python35/lib/python3.5/site-packages (from service-identity>=17.0.0->watson-developer-cloud)\n",
      "Requirement not upgraded as not directly required: pyasn1 in /opt/conda/envs/DSX-Python35/lib/python3.5/site-packages (from service-identity>=17.0.0->watson-developer-cloud)\n",
      "Requirement not upgraded as not directly required: pyasn1-modules in /opt/conda/envs/DSX-Python35/lib/python3.5/site-packages (from service-identity>=17.0.0->watson-developer-cloud)\n",
      "Requirement not upgraded as not directly required: hyperlink>=17.1.1 in /opt/conda/envs/DSX-Python35/lib/python3.5/site-packages (from Twisted>=13.2.0->watson-developer-cloud)\n",
      "Requirement not upgraded as not directly required: zope.interface>=4.4.2 in /opt/conda/envs/DSX-Python35/lib/python3.5/site-packages (from Twisted>=13.2.0->watson-developer-cloud)\n",
      "Requirement not upgraded as not directly required: Automat>=0.3.0 in /opt/conda/envs/DSX-Python35/lib/python3.5/site-packages (from Twisted>=13.2.0->watson-developer-cloud)\n",
      "Requirement not upgraded as not directly required: constantly>=15.1 in /opt/conda/envs/DSX-Python35/lib/python3.5/site-packages (from Twisted>=13.2.0->watson-developer-cloud)\n",
      "Requirement not upgraded as not directly required: incremental>=16.10.1 in /opt/conda/envs/DSX-Python35/lib/python3.5/site-packages (from Twisted>=13.2.0->watson-developer-cloud)\n",
      "Requirement not upgraded as not directly required: cryptography>=1.9 in /opt/conda/envs/DSX-Python35/lib/python3.5/site-packages (from pyOpenSSL>=16.2.0->watson-developer-cloud)\n",
      "Requirement not upgraded as not directly required: chardet<3.1.0,>=3.0.2 in /opt/conda/envs/DSX-Python35/lib/python3.5/site-packages (from requests<3.0,>=2.0->watson-developer-cloud)\n",
      "Requirement not upgraded as not directly required: idna<2.7,>=2.5 in /opt/conda/envs/DSX-Python35/lib/python3.5/site-packages (from requests<3.0,>=2.0->watson-developer-cloud)\n",
      "Requirement not upgraded as not directly required: urllib3<1.23,>=1.21.1 in /opt/conda/envs/DSX-Python35/lib/python3.5/site-packages (from requests<3.0,>=2.0->watson-developer-cloud)\n",
      "Requirement not upgraded as not directly required: certifi>=2017.4.17 in /opt/conda/envs/DSX-Python35/lib/python3.5/site-packages (from requests<3.0,>=2.0->watson-developer-cloud)\n",
      "Requirement not upgraded as not directly required: setuptools in /opt/conda/envs/DSX-Python35/lib/python3.5/site-packages (from zope.interface>=4.4.2->Twisted>=13.2.0->watson-developer-cloud)\n",
      "Requirement not upgraded as not directly required: asn1crypto>=0.21.0 in /opt/conda/envs/DSX-Python35/lib/python3.5/site-packages (from cryptography>=1.9->pyOpenSSL>=16.2.0->watson-developer-cloud)\n",
      "Requirement not upgraded as not directly required: cffi>=1.7 in /opt/conda/envs/DSX-Python35/lib/python3.5/site-packages (from cryptography>=1.9->pyOpenSSL>=16.2.0->watson-developer-cloud)\n",
      "Requirement not upgraded as not directly required: pycparser in /opt/conda/envs/DSX-Python35/lib/python3.5/site-packages (from cffi>=1.7->cryptography>=1.9->pyOpenSSL>=16.2.0->watson-developer-cloud)\n"
     ]
    }
   ],
   "source": [
    "!pip install watson-developer-cloud"
   ]
  },
  {
   "cell_type": "markdown",
   "metadata": {},
   "source": [
    "### Install nltk package"
   ]
  },
  {
   "cell_type": "code",
   "execution_count": 3,
   "metadata": {},
   "outputs": [
    {
     "name": "stdout",
     "output_type": "stream",
     "text": [
      "Requirement already up-to-date: nltk in /opt/conda/envs/DSX-Python35/lib/python3.5/site-packages\r\n",
      "Requirement not upgraded as not directly required: six in /opt/conda/envs/DSX-Python35/lib/python3.5/site-packages (from nltk)\r\n"
     ]
    }
   ],
   "source": [
    "!pip install nltk --upgrade"
   ]
  },
  {
   "cell_type": "markdown",
   "metadata": {},
   "source": [
    "### Now restart the kernel by choosing Kernel > Restart."
   ]
  },
  {
   "cell_type": "markdown",
   "metadata": {},
   "source": [
    "## 1.2 Import packages and libraries\n",
    "\n",
    "Import the packages and libraries that you'll use:\n"
   ]
  },
  {
   "cell_type": "code",
   "execution_count": 4,
   "metadata": {},
   "outputs": [],
   "source": [
    "import docx\n",
    "from docx import Document\n",
    "\n",
    "import watson_developer_cloud\n",
    "from watson_developer_cloud import NaturalLanguageUnderstandingV1\n",
    "from watson_developer_cloud.natural_language_understanding_v1 \\\n",
    "  import Features, EntitiesOptions, KeywordsOptions, SemanticRolesOptions\n",
    "from watson_developer_cloud import WatsonException \n",
    "\n",
    "from io import BytesIO\n",
    "import zipfile\n",
    "from collections import OrderedDict\n",
    "import nltk\n",
    "from nltk import word_tokenize,sent_tokenize,ne_chunk\n",
    "import json"
   ]
  },
  {
   "cell_type": "markdown",
   "metadata": {},
   "source": [
    "## 2. Configuration\n",
    "\n",
    "Add configurable items of the notebook below\n"
   ]
  },
  {
   "cell_type": "markdown",
   "metadata": {},
   "source": [
    "## 2.1 Add your service credentials from IBM Cloud for the Watson services\n",
    "\n",
    "You must create a Watson Natural Language Understanding service on IBM Cloud. Create a service for Natural Language Understanding (NLU). Insert the username and password values for your NLU in the following cell. Do not change the values of the version fields. Run the cell.\n"
   ]
  },
  {
   "cell_type": "code",
   "execution_count": 5,
   "metadata": {},
   "outputs": [],
   "source": [
    "natural_language_understanding = NaturalLanguageUnderstandingV1(\n",
    "    version='2018-03-23',\n",
    "    username=\"9d8eddab-da9f-454c-a1cc-a02ed8c2fe92\",\n",
    "    password=\"A4JHnZoZ1Wwt\")"
   ]
  },
  {
   "cell_type": "markdown",
   "metadata": {},
   "source": [
    "## 2.2 Add your service credentials for Object Storage\n",
    "\n",
    "You must create Object Storage service on IBM Cloud. \n",
    "* Insert Streaming body credentials for the zip file, ensure the name of the streaming body variable to be streaming_body_1\n",
    "* Insert Service Credentials for the configuration file, ensure the name of the variable is credentials_1\n"
   ]
  },
  {
   "cell_type": "code",
   "execution_count": 6,
   "metadata": {},
   "outputs": [],
   "source": [
    "\n",
    "import sys\n",
    "import types\n",
    "import pandas as pd\n",
    "from botocore.client import Config\n",
    "import ibm_boto3\n",
    "\n",
    "def __iter__(self): return 0\n",
    "\n",
    "# @hidden_cell\n",
    "# The following code accesses a file in your IBM Cloud Object Storage. It includes your credentials.\n",
    "# You might want to remove those credentials before you share your notebook.\n",
    "client_e857a804ea664403af9fdcb1f7be9ae1 = ibm_boto3.client(service_name='s3',\n",
    "    ibm_api_key_id='XmdQPC08VWYEdRE1xqesRcU7XAL47zhVQPe2D0ISvzrq',\n",
    "    ibm_auth_endpoint=\"https://iam.ng.bluemix.net/oidc/token\",\n",
    "    config=Config(signature_version='oauth'),\n",
    "    endpoint_url='https://s3-api.us-geo.objectstorage.service.networklayer.com')\n",
    "\n",
    "# Your data file was loaded into a botocore.response.StreamingBody object.\n",
    "# Please read the documentation of ibm_boto3 and pandas to learn more about your possibilities to load the data.\n",
    "# ibm_boto3 documentation: https://ibm.github.io/ibm-cos-sdk-python/\n",
    "# pandas documentation: http://pandas.pydata.org/\n",
    "streaming_body_1 = client_e857a804ea664403af9fdcb1f7be9ae1.get_object(Bucket='chattranscript-donotdelete-pr-ycfr2ziwzhjktq', Key='Travel4Cases.zip')['Body']\n",
    "# add missing __iter__ method, so pandas accepts body as file-like object\n",
    "if not hasattr(streaming_body_1, \"__iter__\"): streaming_body_1.__iter__ = types.MethodType( __iter__, streaming_body_1 ) \n",
    "\n"
   ]
  },
  {
   "cell_type": "code",
   "execution_count": 7,
   "metadata": {},
   "outputs": [],
   "source": [
    "\n",
    "# @hidden_cell\n",
    "# The following code contains the credentials for a file in your IBM Cloud Object Storage.\n",
    "# You might want to remove those credentials before you share your notebook.\n",
    "credentials_1 = {\n",
    "    'IBM_API_KEY_ID': 'XmdQPC08VWYEdRE1xqesRcU7XAL47zhVQPe2D0ISvzrq',\n",
    "    'IAM_SERVICE_ID': 'iam-ServiceId-1a9955e4-1c95-4c04-802e-81aea1e66ef7',\n",
    "    'ENDPOINT': 'https://s3-api.us-geo.objectstorage.service.networklayer.com',\n",
    "    'IBM_AUTH_ENDPOINT': 'https://iam.ng.bluemix.net/oidc/token',\n",
    "    'BUCKET': 'chattranscript-donotdelete-pr-ycfr2ziwzhjktq',\n",
    "    'FILE': 'config.txt'\n",
    "}\n"
   ]
  },
  {
   "cell_type": "markdown",
   "metadata": {},
   "source": [
    "## 2.3 Global Variables\n",
    "\n",
    "file_name: Name of the final output csv file"
   ]
  },
  {
   "cell_type": "code",
   "execution_count": 8,
   "metadata": {},
   "outputs": [],
   "source": [
    "file_name='train.csv'"
   ]
  },
  {
   "cell_type": "markdown",
   "metadata": {},
   "source": [
    "## 2.4 Configure and download required NLTK packages\n",
    "\n",
    "Download the 'punkt' and 'averaged_perceptron_tagger' NLTK packages for POS tagging usage.\n"
   ]
  },
  {
   "cell_type": "code",
   "execution_count": 9,
   "metadata": {},
   "outputs": [
    {
     "name": "stdout",
     "output_type": "stream",
     "text": [
      "[nltk_data] Downloading package punkt to /home/dsxuser/nltk_data...\n",
      "[nltk_data]   Package punkt is already up-to-date!\n",
      "[nltk_data] Downloading package averaged_perceptron_tagger to\n",
      "[nltk_data]     /home/dsxuser/nltk_data...\n",
      "[nltk_data]   Package averaged_perceptron_tagger is already up-to-\n",
      "[nltk_data]       date!\n"
     ]
    },
    {
     "data": {
      "text/plain": [
       "True"
      ]
     },
     "execution_count": 9,
     "metadata": {},
     "output_type": "execute_result"
    }
   ],
   "source": [
    "nltk.download('punkt')\n",
    "nltk.download('averaged_perceptron_tagger')"
   ]
  },
  {
   "cell_type": "markdown",
   "metadata": {},
   "source": [
    "## 3. Persistence and Storage"
   ]
  },
  {
   "cell_type": "markdown",
   "metadata": {},
   "source": [
    "## 3.1 Configure Object Storage Client"
   ]
  },
  {
   "cell_type": "code",
   "execution_count": 10,
   "metadata": {},
   "outputs": [],
   "source": [
    "cos = ibm_boto3.client('s3',\n",
    "                    ibm_api_key_id=credentials_1['IBM_API_KEY_ID'],\n",
    "                    ibm_service_instance_id=credentials_1['IAM_SERVICE_ID'],\n",
    "                    ibm_auth_endpoint=credentials_1['IBM_AUTH_ENDPOINT'],\n",
    "                    config=Config(signature_version='oauth'),\n",
    "                    endpoint_url=credentials_1['ENDPOINT'])\n",
    "\n",
    "def get_file(filename):\n",
    "    '''Retrieve file from Cloud Object Storage'''\n",
    "    fileobject = cos.get_object(Bucket=credentials_1['BUCKET'], Key=filename)['Body']\n",
    "    return fileobject\n",
    "\n",
    "def load_string(fileobject):\n",
    "    '''Load the file contents into a Python string'''\n",
    "    text = fileobject.read()\n",
    "    return text"
   ]
  },
  {
   "cell_type": "markdown",
   "metadata": {},
   "source": [
    "## 4. Input Data"
   ]
  },
  {
   "cell_type": "markdown",
   "metadata": {},
   "source": [
    "## 4.1 Load the Configuration file"
   ]
  },
  {
   "cell_type": "code",
   "execution_count": 11,
   "metadata": {},
   "outputs": [
    {
     "data": {
      "text/plain": [
       "{'configuration': {'class': {'stages': [{'System': [{'name': 'purpose',\n",
       "       'purpose': [{'regex': 'Chunk: {<NN> <NN>}',\n",
       "         'tag': 'purpose',\n",
       "         'type': 'Chunk'}]},\n",
       "      {'name': 'policy',\n",
       "       'policy': [{'split': ',', 'tag': 'policy', 'type': 'split'}]}],\n",
       "     'name': 'System'}]}}}"
      ]
     },
     "execution_count": 11,
     "metadata": {},
     "output_type": "execute_result"
    }
   ],
   "source": [
    "file= credentials_1['FILE']\n",
    "json_str = load_string(get_file(file)).decode('utf-8')\n",
    "#print(json_str)\n",
    "jsontext=json.loads(json_str)\n",
    "jsontext"
   ]
  },
  {
   "cell_type": "markdown",
   "metadata": {},
   "source": [
    "## 4.2 Extract Chat Transcripts from the zip file"
   ]
  },
  {
   "cell_type": "code",
   "execution_count": 12,
   "metadata": {},
   "outputs": [
    {
     "data": {
      "text/plain": [
       "'/home/dsxuser/work/Travel4Cases.docx'"
      ]
     },
     "execution_count": 12,
     "metadata": {},
     "output_type": "execute_result"
    }
   ],
   "source": [
    "zip_ref = zipfile.ZipFile(BytesIO(streaming_body_1.read()),'r')\n",
    "paths = zip_ref.namelist()\n",
    "for path in paths:\n",
    "    loc=zip_ref.extract(path)\n",
    "zip_ref.close()\n",
    "loc"
   ]
  },
  {
   "cell_type": "code",
   "execution_count": 13,
   "metadata": {},
   "outputs": [
    {
     "data": {
      "text/plain": [
       "'Case 1\\n\\n\\n\\nEmp. I need to travel to Mumbai on 18th Feb for 2 days \\n\\n\\n\\nSystem – Sure Anuj, so it will be Delhi to Mumbai, 18 to 20th Feb 2018.\\n\\nSystem – What is going to be purpose of this visit \\n\\n\\n\\nEmp. I am going for a customer work\\n\\n\\n\\nSystem – What is the current policy for customer travel \\n\\nSystem(Content) – Travel Restrictions in Place, only revenue generating travel with Q1 deal closer allowed. Approvals for less than Rs 20000 must be approved by VP and above that by Country GM. \\n\\n\\n\\nSystem – How is the customer, and what is the objective of customer travel\\n\\nEmp. – Customer is SBI, and they need Lab support to resolve an issue \\n\\n\\n\\nSystem – Can you give me PNR number for the support issue you are going. \\n\\nEmp – OK, let me find that. \\n\\nEmp. PNR number 11001100\\n\\n\\n\\nSystem – Thanks for submitting request, please note down your travel request id A202020. \\n\\n\\n\\nSYSTEM – Give me travel cost from Delhi to Mumbai for 2 days in Feb\\n\\nSYSTEM (ML Model)  – 19000\\n\\n\\n\\nSYSTEM – Get me details of PNR number A202020.\\n\\nSYSTEM(API) – Product - Lotus Notes, Sev 2, Open for 10 days\\n\\n\\n\\nSYSTEM – Is this a strategic customer \\n\\nSYSTEM (RPA) – ISA Top 20 Excel sheet – YES\\n\\n\\n\\nSYTEM – What is the revenue we get from this consumer\\n\\nSYSTEM(API) – USD100M\\n\\n\\n\\nSYSTEM – Number of open opportunities\\n\\nSYSTEM(API) – 5\\n\\n\\n\\nSYSTEM – Opportunity with closure in Q1 \\n\\nSYSTEM(API) – 78900000, Deal size - Large\\n\\n\\n\\nSYTEM – Give me sentiments of STATE BANK of INDIA\\n\\nSYSTEM(API) – HIGH NEGATIVE\\n\\n\\n\\nSYSTEM – Owner of 7890000\\n\\nSYSTEM(API) – Navjot Bhogal \\n\\n\\n\\nSYSTEM –  decision\\n\\nSYSTEM – Mail to opportunity owner for impact \\n\\n SYSTEM(RPA) – Mail to Navjot \\n\\nWe have a travel request for PNR A202000, customer sentiments is highly negative. Does this impact your Opportunity number 78900000. Reply with YES, NO, Probably, Do not now.\\n\\n\\n\\nSYTSEM(RPA) – Reminder to Navjot after 6 HR\\n\\nSYTSEM (RPA) – Navjot says YES\\n\\n\\n\\nSYSTEM – Get me Navjot Dept Code and FA\\n\\nSYSTEM (RPA) – UIE and \\n\\n\\n\\nSYTEM(RPA) – Mail to  . \\n\\nSYSTEM(RPA) – Raghu Response. Approved \\n\\n\\n\\nSYSTEM(RPA) – Mail to Gaurav\\n\\nSYSTEM (RPA) – Approved \\n\\n\\n\\nSYSTEM – Give me cost and safety tips for Mumbai. \\n\\nSYTEM (Content) – Tips\\n\\n\\n\\nSYSTEM – Send mail to Anuj\\n\\nSYSTEM (RPA) – Your travel request is approved. Pl. follow the tips below to save cost and stay safe in Mumbai.\\n\\n\\n\\n\\n\\nCase 2 – International travel;\\n\\n\\n\\nEmp. I need to travel to London, UK on 21st  March for 5 days \\n\\n\\n\\nSystem – Sure Kapil, so it will be Delhi to London, 21 to 27 March 2018.\\n\\nSystem – What is going to be purpose of this visit \\n\\n\\n\\nEmp. I am going for a customer work\\n\\n\\n\\nSystem – What is the current policy for international customer travel \\n\\nSystem(Content) – Travel Restrictions in Place, for international travel WW approval to be in place. \\n\\n\\n\\nSystem – Explain the opportunity, your role, impact of you not traveling, who has requested your travel.\\n\\n\\n\\nEmp. – I am solution architect for GDPR, who has worked on similar wins and my expertize is required to close large deal with UK based customer. \\n\\n\\n\\nSystem – Thanks for submitting request, please note down your travel request id B202021\\n\\n System(RPA) – Submit the request in WW database \\n\\n\\n\\nSystem(RPA) – Request approved \\n\\n\\n\\nSystem – Travel approval mail to Emp.\\n\\n\\n\\n\\n\\n\\n\\nCase 3: Conf travel \\n\\n\\n\\nEmp. I need to travel to Bangalore on 21st  March for 3 days to attend a conference. \\n\\n\\n\\nSystem – Sure Kapil, so it will be Delhi to Bangalore, 21 to 24 March 2018.\\n\\nSystem – which conference is this and what is your role.  \\n\\n\\n\\nEmp. I am presenting a paper in IEEE international conf  on AI.\\n\\n\\n\\nSystem – What is the current policy for conf travel \\n\\nSystem(Content) – Travel allowed for reputed external conference where emp is doing a paper presentation or session. \\n\\n\\n\\nSystem  – Check if IEEE is in the excel sheet of reputed conf. \\n\\nSystem (RPA) – YES\\n\\n\\n\\nSystem – Your travel is approved.  \\n\\n\\n\\nCase 4: Customer Travel \\n\\n\\n\\n\\n\\nEmp. I need to travel to Bangalore on 18th Feb for 2 days \\n\\n\\n\\nSystem – Sure Anuj, so it will be Delhi to Bangalore, 18 to 20th Feb 2018.\\n\\nSystem – What is going to be purpose of this visit \\n\\n\\n\\nEmp. I am going for a customer work\\n\\n\\n\\nSystem – What is the current policy for customer travel \\n\\nSystem(Content) – Travel allowed for valid business opportunity, explore alternative to travel or to reduce  cost.  \\n\\n\\n\\nSystem – Who is the customer, and what is the objective of customer travel\\n\\nEmp. – Customer is XYZ Infotech, and going to take a session on DSx, which requires ML skills. \\n\\n\\n\\nSystem – Do you have opportunity id?.\\n\\nEmp. – No, its my first meeting with customer. \\n\\n\\n\\nSystem – Check from travel system on travel cost on 22, 23 Delhi to Bangalore. \\n\\nSystem – High\\n\\n\\n\\nSystem – Do we have any ML experts in Bangalore \\n\\nSytsem (API) – YES, found 5 with similar profile to Anuj with ML/Dsx skills in same Business Unit. \\n\\n\\n\\nSystem – Request rejected with options  1. Travel on off peak dates – 27, 28th Feb 2. Can use local resources '"
      ]
     },
     "execution_count": 13,
     "metadata": {},
     "output_type": "execute_result"
    }
   ],
   "source": [
    "filename=loc\n",
    "document = docx.Document(filename)\n",
    "docText = b'\\n\\n'.join([\n",
    "    paragraph.text.encode('utf-8') for paragraph in document.paragraphs\n",
    "])\n",
    "docText= docText.decode('utf-8')\n",
    "docText"
   ]
  },
  {
   "cell_type": "markdown",
   "metadata": {},
   "source": [
    "## 5. Form the Dataframe"
   ]
  },
  {
   "cell_type": "markdown",
   "metadata": {},
   "source": [
    "###  5.1 Split the Chat Transcripts by Cases\n",
    "\n",
    "Here, each case will form a record in the dataframe"
   ]
  },
  {
   "cell_type": "code",
   "execution_count": 14,
   "metadata": {},
   "outputs": [
    {
     "data": {
      "text/plain": [
       "['Case 1',\n",
       " '',\n",
       " '',\n",
       " '',\n",
       " 'Emp. I need to travel to Mumbai on 18th Feb for 2 days ',\n",
       " '',\n",
       " '',\n",
       " '',\n",
       " 'System – Sure Anuj, so it will be Delhi to Mumbai, 18 to 20th Feb 2018.',\n",
       " '',\n",
       " 'System – What is going to be purpose of this visit ',\n",
       " '',\n",
       " '',\n",
       " '',\n",
       " 'Emp. I am going for a customer work',\n",
       " '',\n",
       " '',\n",
       " '',\n",
       " 'System – What is the current policy for customer travel ',\n",
       " '',\n",
       " 'System(Content) – Travel Restrictions in Place, only revenue generating travel with Q1 deal closer allowed. Approvals for less than Rs 20000 must be approved by VP and above that by Country GM. ',\n",
       " '',\n",
       " '',\n",
       " '',\n",
       " 'System – How is the customer, and what is the objective of customer travel',\n",
       " '',\n",
       " 'Emp. – Customer is SBI, and they need Lab support to resolve an issue ',\n",
       " '',\n",
       " '',\n",
       " '',\n",
       " 'System – Can you give me PNR number for the support issue you are going. ',\n",
       " '',\n",
       " 'Emp – OK, let me find that. ',\n",
       " '',\n",
       " 'Emp. PNR number 11001100',\n",
       " '',\n",
       " '',\n",
       " '',\n",
       " 'System – Thanks for submitting request, please note down your travel request id A202020. ',\n",
       " '',\n",
       " '',\n",
       " '',\n",
       " 'SYSTEM – Give me travel cost from Delhi to Mumbai for 2 days in Feb',\n",
       " '',\n",
       " 'SYSTEM (ML Model)  – 19000',\n",
       " '',\n",
       " '',\n",
       " '',\n",
       " 'SYSTEM – Get me details of PNR number A202020.',\n",
       " '',\n",
       " 'SYSTEM(API) – Product - Lotus Notes, Sev 2, Open for 10 days',\n",
       " '',\n",
       " '',\n",
       " '',\n",
       " 'SYSTEM – Is this a strategic customer ',\n",
       " '',\n",
       " 'SYSTEM (RPA) – ISA Top 20 Excel sheet – YES',\n",
       " '',\n",
       " '',\n",
       " '',\n",
       " 'SYTEM – What is the revenue we get from this consumer',\n",
       " '',\n",
       " 'SYSTEM(API) – USD100M',\n",
       " '',\n",
       " '',\n",
       " '',\n",
       " 'SYSTEM – Number of open opportunities',\n",
       " '',\n",
       " 'SYSTEM(API) – 5',\n",
       " '',\n",
       " '',\n",
       " '',\n",
       " 'SYSTEM – Opportunity with closure in Q1 ',\n",
       " '',\n",
       " 'SYSTEM(API) – 78900000, Deal size - Large',\n",
       " '',\n",
       " '',\n",
       " '',\n",
       " 'SYTEM – Give me sentiments of STATE BANK of INDIA',\n",
       " '',\n",
       " 'SYSTEM(API) – HIGH NEGATIVE',\n",
       " '',\n",
       " '',\n",
       " '',\n",
       " 'SYSTEM – Owner of 7890000',\n",
       " '',\n",
       " 'SYSTEM(API) – Navjot Bhogal ',\n",
       " '',\n",
       " '',\n",
       " '',\n",
       " 'SYSTEM –  decision',\n",
       " '',\n",
       " 'SYSTEM – Mail to opportunity owner for impact ',\n",
       " '',\n",
       " ' SYSTEM(RPA) – Mail to Navjot ',\n",
       " '',\n",
       " 'We have a travel request for PNR A202000, customer sentiments is highly negative. Does this impact your Opportunity number 78900000. Reply with YES, NO, Probably, Do not now.',\n",
       " '',\n",
       " '',\n",
       " '',\n",
       " 'SYTSEM(RPA) – Reminder to Navjot after 6 HR',\n",
       " '',\n",
       " 'SYTSEM (RPA) – Navjot says YES',\n",
       " '',\n",
       " '',\n",
       " '',\n",
       " 'SYSTEM – Get me Navjot Dept Code and FA',\n",
       " '',\n",
       " 'SYSTEM (RPA) – UIE and ',\n",
       " '',\n",
       " '',\n",
       " '',\n",
       " 'SYTEM(RPA) – Mail to  . ',\n",
       " '',\n",
       " 'SYSTEM(RPA) – Raghu Response. Approved ',\n",
       " '',\n",
       " '',\n",
       " '',\n",
       " 'SYSTEM(RPA) – Mail to Gaurav',\n",
       " '',\n",
       " 'SYSTEM (RPA) – Approved ',\n",
       " '',\n",
       " '',\n",
       " '',\n",
       " 'SYSTEM – Give me cost and safety tips for Mumbai. ',\n",
       " '',\n",
       " 'SYTEM (Content) – Tips',\n",
       " '',\n",
       " '',\n",
       " '',\n",
       " 'SYSTEM – Send mail to Anuj',\n",
       " '',\n",
       " 'SYSTEM (RPA) – Your travel request is approved. Pl. follow the tips below to save cost and stay safe in Mumbai.',\n",
       " '',\n",
       " '',\n",
       " '',\n",
       " '',\n",
       " '',\n",
       " 'Case 2 – International travel;',\n",
       " '',\n",
       " '',\n",
       " '',\n",
       " 'Emp. I need to travel to London, UK on 21st  March for 5 days ',\n",
       " '',\n",
       " '',\n",
       " '',\n",
       " 'System – Sure Kapil, so it will be Delhi to London, 21 to 27 March 2018.',\n",
       " '',\n",
       " 'System – What is going to be purpose of this visit ',\n",
       " '',\n",
       " '',\n",
       " '',\n",
       " 'Emp. I am going for a customer work',\n",
       " '',\n",
       " '',\n",
       " '',\n",
       " 'System – What is the current policy for international customer travel ',\n",
       " '',\n",
       " 'System(Content) – Travel Restrictions in Place, for international travel WW approval to be in place. ',\n",
       " '',\n",
       " '',\n",
       " '',\n",
       " 'System – Explain the opportunity, your role, impact of you not traveling, who has requested your travel.',\n",
       " '',\n",
       " '',\n",
       " '',\n",
       " 'Emp. – I am solution architect for GDPR, who has worked on similar wins and my expertize is required to close large deal with UK based customer. ',\n",
       " '',\n",
       " '',\n",
       " '',\n",
       " 'System – Thanks for submitting request, please note down your travel request id B202021',\n",
       " '',\n",
       " ' System(RPA) – Submit the request in WW database ',\n",
       " '',\n",
       " '',\n",
       " '',\n",
       " 'System(RPA) – Request approved ',\n",
       " '',\n",
       " '',\n",
       " '',\n",
       " 'System – Travel approval mail to Emp.',\n",
       " '',\n",
       " '',\n",
       " '',\n",
       " '',\n",
       " '',\n",
       " '',\n",
       " '',\n",
       " 'Case 3: Conf travel ',\n",
       " '',\n",
       " '',\n",
       " '',\n",
       " 'Emp. I need to travel to Bangalore on 21st  March for 3 days to attend a conference. ',\n",
       " '',\n",
       " '',\n",
       " '',\n",
       " 'System – Sure Kapil, so it will be Delhi to Bangalore, 21 to 24 March 2018.',\n",
       " '',\n",
       " 'System – which conference is this and what is your role.  ',\n",
       " '',\n",
       " '',\n",
       " '',\n",
       " 'Emp. I am presenting a paper in IEEE international conf  on AI.',\n",
       " '',\n",
       " '',\n",
       " '',\n",
       " 'System – What is the current policy for conf travel ',\n",
       " '',\n",
       " 'System(Content) – Travel allowed for reputed external conference where emp is doing a paper presentation or session. ',\n",
       " '',\n",
       " '',\n",
       " '',\n",
       " 'System  – Check if IEEE is in the excel sheet of reputed conf. ',\n",
       " '',\n",
       " 'System (RPA) – YES',\n",
       " '',\n",
       " '',\n",
       " '',\n",
       " 'System – Your travel is approved.  ',\n",
       " '',\n",
       " '',\n",
       " '',\n",
       " 'Case 4: Customer Travel ',\n",
       " '',\n",
       " '',\n",
       " '',\n",
       " '',\n",
       " '',\n",
       " 'Emp. I need to travel to Bangalore on 18th Feb for 2 days ',\n",
       " '',\n",
       " '',\n",
       " '',\n",
       " 'System – Sure Anuj, so it will be Delhi to Bangalore, 18 to 20th Feb 2018.',\n",
       " '',\n",
       " 'System – What is going to be purpose of this visit ',\n",
       " '',\n",
       " '',\n",
       " '',\n",
       " 'Emp. I am going for a customer work',\n",
       " '',\n",
       " '',\n",
       " '',\n",
       " 'System – What is the current policy for customer travel ',\n",
       " '',\n",
       " 'System(Content) – Travel allowed for valid business opportunity, explore alternative to travel or to reduce  cost.  ',\n",
       " '',\n",
       " '',\n",
       " '',\n",
       " 'System – Who is the customer, and what is the objective of customer travel',\n",
       " '',\n",
       " 'Emp. – Customer is XYZ Infotech, and going to take a session on DSx, which requires ML skills. ',\n",
       " '',\n",
       " '',\n",
       " '',\n",
       " 'System – Do you have opportunity id?.',\n",
       " '',\n",
       " 'Emp. – No, its my first meeting with customer. ',\n",
       " '',\n",
       " '',\n",
       " '',\n",
       " 'System – Check from travel system on travel cost on 22, 23 Delhi to Bangalore. ',\n",
       " '',\n",
       " 'System – High',\n",
       " '',\n",
       " '',\n",
       " '',\n",
       " 'System – Do we have any ML experts in Bangalore ',\n",
       " '',\n",
       " 'Sytsem (API) – YES, found 5 with similar profile to Anuj with ML/Dsx skills in same Business Unit. ',\n",
       " '',\n",
       " '',\n",
       " '',\n",
       " 'System – Request rejected with options  1. Travel on off peak dates – 27, 28th Feb 2. Can use local resources']"
      ]
     },
     "execution_count": 14,
     "metadata": {},
     "output_type": "execute_result"
    }
   ],
   "source": [
    "quesandans= docText.strip().splitlines()\n",
    "quesandans"
   ]
  },
  {
   "cell_type": "code",
   "execution_count": 15,
   "metadata": {},
   "outputs": [
    {
     "data": {
      "text/plain": [
       "'Case 3: Conf travel '"
      ]
     },
     "execution_count": 15,
     "metadata": {},
     "output_type": "execute_result"
    }
   ],
   "source": [
    "word='Case'\n",
    "positions = [x for x, n in enumerate(quesandans) if word in n]\n",
    "positions\n",
    "quesandans[positions[2]]"
   ]
  },
  {
   "cell_type": "code",
   "execution_count": 16,
   "metadata": {},
   "outputs": [
    {
     "data": {
      "text/plain": [
       "['Case 4: Customer Travel ',\n",
       " '',\n",
       " '',\n",
       " '',\n",
       " '',\n",
       " '',\n",
       " 'Emp. I need to travel to Bangalore on 18th Feb for 2 days ',\n",
       " '',\n",
       " '',\n",
       " '',\n",
       " 'System – Sure Anuj, so it will be Delhi to Bangalore, 18 to 20th Feb 2018.',\n",
       " '',\n",
       " 'System – What is going to be purpose of this visit ',\n",
       " '',\n",
       " '',\n",
       " '',\n",
       " 'Emp. I am going for a customer work',\n",
       " '',\n",
       " '',\n",
       " '',\n",
       " 'System – What is the current policy for customer travel ',\n",
       " '',\n",
       " 'System(Content) – Travel allowed for valid business opportunity, explore alternative to travel or to reduce  cost.  ',\n",
       " '',\n",
       " '',\n",
       " '',\n",
       " 'System – Who is the customer, and what is the objective of customer travel',\n",
       " '',\n",
       " 'Emp. – Customer is XYZ Infotech, and going to take a session on DSx, which requires ML skills. ',\n",
       " '',\n",
       " '',\n",
       " '',\n",
       " 'System – Do you have opportunity id?.',\n",
       " '',\n",
       " 'Emp. – No, its my first meeting with customer. ',\n",
       " '',\n",
       " '',\n",
       " '',\n",
       " 'System – Check from travel system on travel cost on 22, 23 Delhi to Bangalore. ',\n",
       " '',\n",
       " 'System – High',\n",
       " '',\n",
       " '',\n",
       " '',\n",
       " 'System – Do we have any ML experts in Bangalore ',\n",
       " '',\n",
       " 'Sytsem (API) – YES, found 5 with similar profile to Anuj with ML/Dsx skills in same Business Unit. ',\n",
       " '',\n",
       " '',\n",
       " '',\n",
       " 'System – Request rejected with options  1. Travel on off peak dates – 27, 28th Feb 2. Can use local resources']"
      ]
     },
     "execution_count": 16,
     "metadata": {},
     "output_type": "execute_result"
    }
   ],
   "source": [
    "case=list()\n",
    "leng = len(positions)-1\n",
    "for i in range(len(positions)):\n",
    "    if i != leng:\n",
    "        case.append(quesandans[positions[i]:positions[i+1]])\n",
    "    else:\n",
    "        case.append(quesandans[positions[i]:len(quesandans)])\n",
    "case[3]"
   ]
  },
  {
   "cell_type": "code",
   "execution_count": 17,
   "metadata": {},
   "outputs": [
    {
     "data": {
      "text/plain": [
       "[['Emp. I need to travel to Mumbai on 18th Feb for 2 days ',\n",
       "  'System – Sure Anuj, so it will be Delhi to Mumbai, 18 to 20th Feb 2018.',\n",
       "  'System – What is going to be purpose of this visit ',\n",
       "  'Emp. I am going for a customer work',\n",
       "  'System – What is the current policy for customer travel ',\n",
       "  'System(Content) – Travel Restrictions in Place, only revenue generating travel with Q1 deal closer allowed. Approvals for less than Rs 20000 must be approved by VP and above that by Country GM. ',\n",
       "  'System – How is the customer, and what is the objective of customer travel',\n",
       "  'Emp. – Customer is SBI, and they need Lab support to resolve an issue ',\n",
       "  'System – Can you give me PNR number for the support issue you are going. ',\n",
       "  'Emp – OK, let me find that. ',\n",
       "  'Emp. PNR number 11001100',\n",
       "  'System – Thanks for submitting request, please note down your travel request id A202020. ',\n",
       "  'SYSTEM – Give me travel cost from Delhi to Mumbai for 2 days in Feb',\n",
       "  'SYSTEM (ML Model)  – 19000',\n",
       "  'SYSTEM – Get me details of PNR number A202020.',\n",
       "  'SYSTEM(API) – Product - Lotus Notes, Sev 2, Open for 10 days',\n",
       "  'SYSTEM – Is this a strategic customer ',\n",
       "  'SYSTEM (RPA) – ISA Top 20 Excel sheet – YES',\n",
       "  'SYTEM – What is the revenue we get from this consumer',\n",
       "  'SYSTEM(API) – USD100M',\n",
       "  'SYSTEM – Number of open opportunities',\n",
       "  'SYSTEM(API) – 5',\n",
       "  'SYSTEM – Opportunity with closure in Q1 ',\n",
       "  'SYSTEM(API) – 78900000, Deal size - Large',\n",
       "  'SYTEM – Give me sentiments of STATE BANK of INDIA',\n",
       "  'SYSTEM(API) – HIGH NEGATIVE',\n",
       "  'SYSTEM – Owner of 7890000',\n",
       "  'SYSTEM(API) – Navjot Bhogal ',\n",
       "  'SYSTEM –  decision',\n",
       "  'SYSTEM – Mail to opportunity owner for impact ',\n",
       "  ' SYSTEM(RPA) – Mail to Navjot ',\n",
       "  'We have a travel request for PNR A202000, customer sentiments is highly negative. Does this impact your Opportunity number 78900000. Reply with YES, NO, Probably, Do not now.',\n",
       "  'SYTSEM(RPA) – Reminder to Navjot after 6 HR',\n",
       "  'SYTSEM (RPA) – Navjot says YES',\n",
       "  'SYSTEM – Get me Navjot Dept Code and FA',\n",
       "  'SYSTEM (RPA) – UIE and ',\n",
       "  'SYTEM(RPA) – Mail to  . ',\n",
       "  'SYSTEM(RPA) – Raghu Response. Approved ',\n",
       "  'SYSTEM(RPA) – Mail to Gaurav',\n",
       "  'SYSTEM (RPA) – Approved ',\n",
       "  'SYSTEM – Give me cost and safety tips for Mumbai. ',\n",
       "  'SYTEM (Content) – Tips',\n",
       "  'SYSTEM – Send mail to Anuj',\n",
       "  'SYSTEM (RPA) – Your travel request is approved. Pl. follow the tips below to save cost and stay safe in Mumbai.'],\n",
       " ['Emp. I need to travel to London, UK on 21st  March for 5 days ',\n",
       "  'System – Sure Kapil, so it will be Delhi to London, 21 to 27 March 2018.',\n",
       "  'System – What is going to be purpose of this visit ',\n",
       "  'Emp. I am going for a customer work',\n",
       "  'System – What is the current policy for international customer travel ',\n",
       "  'System(Content) – Travel Restrictions in Place, for international travel WW approval to be in place. ',\n",
       "  'System – Explain the opportunity, your role, impact of you not traveling, who has requested your travel.',\n",
       "  'Emp. – I am solution architect for GDPR, who has worked on similar wins and my expertize is required to close large deal with UK based customer. ',\n",
       "  'System – Thanks for submitting request, please note down your travel request id B202021',\n",
       "  ' System(RPA) – Submit the request in WW database ',\n",
       "  'System(RPA) – Request approved ',\n",
       "  'System – Travel approval mail to Emp.'],\n",
       " ['Emp. I need to travel to Bangalore on 21st  March for 3 days to attend a conference. ',\n",
       "  'System – Sure Kapil, so it will be Delhi to Bangalore, 21 to 24 March 2018.',\n",
       "  'System – which conference is this and what is your role.  ',\n",
       "  'Emp. I am presenting a paper in IEEE international conf  on AI.',\n",
       "  'System – What is the current policy for conf travel ',\n",
       "  'System(Content) – Travel allowed for reputed external conference where emp is doing a paper presentation or session. ',\n",
       "  'System  – Check if IEEE is in the excel sheet of reputed conf. ',\n",
       "  'System (RPA) – YES',\n",
       "  'System – Your travel is approved.  '],\n",
       " ['Emp. I need to travel to Bangalore on 18th Feb for 2 days ',\n",
       "  'System – Sure Anuj, so it will be Delhi to Bangalore, 18 to 20th Feb 2018.',\n",
       "  'System – What is going to be purpose of this visit ',\n",
       "  'Emp. I am going for a customer work',\n",
       "  'System – What is the current policy for customer travel ',\n",
       "  'System(Content) – Travel allowed for valid business opportunity, explore alternative to travel or to reduce  cost.  ',\n",
       "  'System – Who is the customer, and what is the objective of customer travel',\n",
       "  'Emp. – Customer is XYZ Infotech, and going to take a session on DSx, which requires ML skills. ',\n",
       "  'System – Do you have opportunity id?.',\n",
       "  'Emp. – No, its my first meeting with customer. ',\n",
       "  'System – Check from travel system on travel cost on 22, 23 Delhi to Bangalore. ',\n",
       "  'System – High',\n",
       "  'System – Do we have any ML experts in Bangalore ',\n",
       "  'Sytsem (API) – YES, found 5 with similar profile to Anuj with ML/Dsx skills in same Business Unit. ',\n",
       "  'System – Request rejected with options  1. Travel on off peak dates – 27, 28th Feb 2. Can use local resources']]"
      ]
     },
     "execution_count": 17,
     "metadata": {},
     "output_type": "execute_result"
    }
   ],
   "source": [
    "''' Remove empty strings and Remove Case i\n",
    "'''\n",
    "for i in range(len(case)):\n",
    "    case[i]=list(filter(None,case[i]))\n",
    "    case[i].pop(0)\n",
    "case"
   ]
  },
  {
   "cell_type": "code",
   "execution_count": 18,
   "metadata": {},
   "outputs": [],
   "source": [
    "''' Split condition\n",
    "'''\n",
    "split=case[0][12][7] # Make Global Variable at the end"
   ]
  },
  {
   "cell_type": "code",
   "execution_count": 19,
   "metadata": {},
   "outputs": [],
   "source": [
    "def analyze_using_NLU(analysistext):\n",
    "    \"\"\" Call Watson Natural Language Understanding service to obtain analysis results.\n",
    "    \"\"\"\n",
    "    response = natural_language_understanding.analyze( \n",
    "        text=analysistext,\n",
    "        features=Features(entities= EntitiesOptions(), keywords=KeywordsOptions(), semantic_roles=SemanticRolesOptions()))\n",
    "    return response"
   ]
  },
  {
   "cell_type": "code",
   "execution_count": 20,
   "metadata": {},
   "outputs": [],
   "source": [
    "def find_index(values):\n",
    "    to_find= 'Thanks for submitting request, please note down your travel request id'\n",
    "    for i in range(len(values)):\n",
    "        if to_find in values[i]:\n",
    "            return i\n",
    "#find_index(cases_dict[1])"
   ]
  },
  {
   "cell_type": "markdown",
   "metadata": {},
   "source": [
    "### 5.2 First Strategy"
   ]
  },
  {
   "cell_type": "code",
   "execution_count": 21,
   "metadata": {},
   "outputs": [],
   "source": [
    "def POS_tagging(text):\n",
    "    \"\"\" Generate Part of speech tagging of the text.\n",
    "    \"\"\"\n",
    "    POSofText = nltk.tag.pos_tag(text)\n",
    "    return POSofText\n",
    "\n",
    "def text_extract(reg, tag,text):\n",
    "    \"\"\" Use Chunking to extract text from sentence\n",
    "    \"\"\"\n",
    "    entities = list()\n",
    "    text_extracted= str()\n",
    "    chunkParser= nltk.RegexpParser(reg)\n",
    "    chunked= chunkParser.parse(POS_tagging(text))\n",
    "    #print(chunked)\n",
    "    for subtree in chunked.subtrees():\n",
    "        if subtree.label() == 'Chunk':\n",
    "            #print(subtree.leaves())\n",
    "            entities=subtree.leaves()\n",
    "    #print(entities)\n",
    "    entities= list(entities)\n",
    "    for i in range(len(entities[0])):\n",
    "        text_extracted= text_extracted + str(entities[i][0])\n",
    "        text_extracted=text_extracted + ' '\n",
    "    return text_extracted\n",
    "def first_strategy(value, start, end):\n",
    "    \"\"\" Work with configuration files to extract using rules\n",
    "    \"\"\"\n",
    "    firstlist=list()\n",
    "    #print(case[0][5])\n",
    "    for i in range(end):\n",
    "        #print(value[i])\n",
    "        check_system= jsontext['configuration']['class']['stages'][0]['name']\n",
    "        if check_system.strip() in value[i]:\n",
    "            stages= jsontext['configuration']['class']['stages'][0]\n",
    "            for j in range(len(stages)):\n",
    "                if stages[check_system.strip()][j]['name'].strip() in value[i]:\n",
    "                    step_name = stages[check_system.strip()][j]['name']\n",
    "                    step= stages[check_system.strip()][j][step_name.strip()][0]\n",
    "                    #print(step)\n",
    "                    compare= step['type'].strip()\n",
    "                    if compare =='Chunk':\n",
    "                        words = nltk.word_tokenize(value[i+1])\n",
    "                        firstlist.append((step['tag'],text_extract(step['regex'],step['tag'],words)))\n",
    "                    elif compare == 'split':\n",
    "                        firstlist.append((step['tag'],value[i+1]))\n",
    "    return firstlist"
   ]
  },
  {
   "cell_type": "markdown",
   "metadata": {},
   "source": [
    "### 5.3 Second Strategy"
   ]
  },
  {
   "cell_type": "code",
   "execution_count": 22,
   "metadata": {},
   "outputs": [],
   "source": [
    "def check_type(ent_type):\n",
    "    \"\"\" Check for Type of Entities\n",
    "    \"\"\"\n",
    "    not_req= ['Anatomy', 'Award','Broadcaster','Company','Crime' ,'Drug','EmailAddress','Facility', 'GeographicFeature','HealthCondition','Hashtag','IPAddress','JobTitle','Location','Movie','MusicGroup','NaturalEvent','Organization','Person','PrintMedia','Quantity','Sport','SportingEvent','TelevisionShow','TwitterHandle','Vehicle']\n",
    "    if ent_type in not_req:\n",
    "        return 1\n",
    "    return 0"
   ]
  },
  {
   "cell_type": "code",
   "execution_count": 23,
   "metadata": {},
   "outputs": [],
   "source": [
    "def second_strategy(case_value, start, end):\n",
    "    \"\"\" Extract feature-value pairs from Chat Transcripts\n",
    "    \"\"\"\n",
    "    finallist= list()\n",
    "    for i in range(start,end-2,2):\n",
    "        imp_feature=list()\n",
    "        try:\n",
    "            features=list()\n",
    "            subject= list()\n",
    "            obj=list()\n",
    "            \n",
    "            text = case_value[i].split(split)\n",
    "            res=analyze_using_NLU(text[1])\n",
    "            keywords= res['keywords']\n",
    "            entities= res['entities']\n",
    "            semantic_roles= res['semantic_roles']\n",
    "            for k in keywords:\n",
    "                ''' Extract Keywords for each sentence\n",
    "                '''\n",
    "                if len(k)> 0:\n",
    "                    features.append(k['text'])\n",
    "            for e in entities:\n",
    "                '''Remove Entities which have type like Location, Organization, etc\n",
    "                '''\n",
    "                if check_type(e['type']):\n",
    "                    if e['text'] in features:\n",
    "                        index= features.index(e['text'])\n",
    "                        del features[index]\n",
    "                else:\n",
    "                    if len(e)>0:\n",
    "                        features.append(e['text'])\n",
    "            \n",
    "            \n",
    "            for sent in semantic_roles:\n",
    "                ''' Extract subject and object for each sentence\n",
    "                '''\n",
    "                subject.append(sent['subject']['text'])\n",
    "                obj.append(sent['object']['text'])\n",
    "                \n",
    "            ''' Remove Features that are not present in subject or object\n",
    "            '''\n",
    "            if len(subject)==0 or len(obj)==0:\n",
    "                imp_feature= imp_feature + features\n",
    "            else:\n",
    "                for j in range(len(subject)):\n",
    "                    if len(features) > 1:\n",
    "                        for f in features:\n",
    "                            if f in subject[j]:\n",
    "                                imp_feature.append(f)\n",
    "                            if f in obj[j]:\n",
    "                                if f not in imp_feature:\n",
    "                                    imp_feature.append(f)\n",
    "                    else:\n",
    "                        if features[0] in subject[j]:\n",
    "                            imp_feature.extend(features)\n",
    "                        if features[0] in obj[j]:\n",
    "                            if features[0] not in imp_feature:\n",
    "                                imp_feature.extend(features)\n",
    "\n",
    "            ''' Take Only the Feature with highest relevance\n",
    "            '''\n",
    "            while len(imp_feature) > 1:\n",
    "                imp_feature.pop(-1)\n",
    "            #print(case[1][i])\n",
    "            #print(case[0][i+1])\n",
    "            #print('--------------------------------------------------------------')\n",
    "            #print(imp_feature)\n",
    "            #print('-')\n",
    "            \n",
    "            ''' Get Values and Form a List of Tuples\n",
    "            '''\n",
    "            value= case_value[i+1].split(split)\n",
    "            if len(value) > 1:\n",
    "                #print(value[1])\n",
    "                text=value[1]\n",
    "                #print(text)\n",
    "                finaltodf = (imp_feature[0],text)\n",
    "            else:\n",
    "                finaltodf = (imp_feature[0],value)\n",
    "                #print(value)\n",
    "            #print('--------------------------------------------------------------')\n",
    "            finallist.append(finaltodf)\n",
    "        except WatsonException as err:\n",
    "            print()\n",
    "    return finallist"
   ]
  },
  {
   "cell_type": "markdown",
   "metadata": {},
   "source": [
    "### 5.4 Collect Obtained Features and Form a Dataframe"
   ]
  },
  {
   "cell_type": "code",
   "execution_count": 24,
   "metadata": {},
   "outputs": [],
   "source": [
    "def convert_to_dataframe(finallist, index):\n",
    "    \"\"\" Take the result dictionary of key-value pairs and convert to Pandas Dataframe\n",
    "    \"\"\"\n",
    "    final= OrderedDict(finallist)\n",
    "    df = pd.DataFrame(final, columns=final.keys(),index=index)\n",
    "    return df"
   ]
  },
  {
   "cell_type": "code",
   "execution_count": 25,
   "metadata": {},
   "outputs": [
    {
     "name": "stdout",
     "output_type": "stream",
     "text": [
      "\n",
      "\n"
     ]
    },
    {
     "data": {
      "text/html": [
       "<div>\n",
       "<style scoped>\n",
       "    .dataframe tbody tr th:only-of-type {\n",
       "        vertical-align: middle;\n",
       "    }\n",
       "\n",
       "    .dataframe tbody tr th {\n",
       "        vertical-align: top;\n",
       "    }\n",
       "\n",
       "    .dataframe thead th {\n",
       "        text-align: right;\n",
       "    }\n",
       "</style>\n",
       "<table border=\"1\" class=\"dataframe\">\n",
       "  <thead>\n",
       "    <tr style=\"text-align: right;\">\n",
       "      <th></th>\n",
       "      <th>purpose</th>\n",
       "      <th>policy</th>\n",
       "      <th>cost</th>\n",
       "      <th>PNR number</th>\n",
       "      <th>strategic customer</th>\n",
       "      <th>revenue</th>\n",
       "      <th>open opportunities</th>\n",
       "      <th>closure</th>\n",
       "      <th>sentiments</th>\n",
       "      <th>Owner</th>\n",
       "      <th>Mail</th>\n",
       "      <th>Reminder</th>\n",
       "      <th>Navjot Dept Code</th>\n",
       "      <th>safety tips</th>\n",
       "      <th>Recommendation</th>\n",
       "    </tr>\n",
       "  </thead>\n",
       "  <tbody>\n",
       "    <tr>\n",
       "      <th>1</th>\n",
       "      <td>customer work</td>\n",
       "      <td>System(Content) – Travel Restrictions in Place...</td>\n",
       "      <td>19000</td>\n",
       "      <td>Product - Lotus Notes, Sev 2, Open for 10 days</td>\n",
       "      <td>ISA Top 20 Excel sheet</td>\n",
       "      <td>USD100M</td>\n",
       "      <td>5</td>\n",
       "      <td>78900000, Deal size - Large</td>\n",
       "      <td>HIGH NEGATIVE</td>\n",
       "      <td>Navjot Bhogal</td>\n",
       "      <td>Approved</td>\n",
       "      <td>Navjot says YES</td>\n",
       "      <td>UIE and</td>\n",
       "      <td>Tips</td>\n",
       "      <td>Your travel request is approved. Pl. follow t...</td>\n",
       "    </tr>\n",
       "    <tr>\n",
       "      <th>2</th>\n",
       "      <td>customer work</td>\n",
       "      <td>System(Content) – Travel Restrictions in Place...</td>\n",
       "      <td>NaN</td>\n",
       "      <td>NaN</td>\n",
       "      <td>NaN</td>\n",
       "      <td>NaN</td>\n",
       "      <td>NaN</td>\n",
       "      <td>NaN</td>\n",
       "      <td>NaN</td>\n",
       "      <td>NaN</td>\n",
       "      <td>NaN</td>\n",
       "      <td>NaN</td>\n",
       "      <td>NaN</td>\n",
       "      <td>NaN</td>\n",
       "      <td>Travel approval mail to Emp.</td>\n",
       "    </tr>\n",
       "    <tr>\n",
       "      <th>3</th>\n",
       "      <td>NaN</td>\n",
       "      <td>System(Content) – Travel allowed for reputed e...</td>\n",
       "      <td>NaN</td>\n",
       "      <td>NaN</td>\n",
       "      <td>NaN</td>\n",
       "      <td>NaN</td>\n",
       "      <td>NaN</td>\n",
       "      <td>NaN</td>\n",
       "      <td>NaN</td>\n",
       "      <td>NaN</td>\n",
       "      <td>NaN</td>\n",
       "      <td>NaN</td>\n",
       "      <td>NaN</td>\n",
       "      <td>NaN</td>\n",
       "      <td>Your travel is approved.</td>\n",
       "    </tr>\n",
       "    <tr>\n",
       "      <th>4</th>\n",
       "      <td>customer work</td>\n",
       "      <td>System(Content) – Travel allowed for valid bus...</td>\n",
       "      <td>NaN</td>\n",
       "      <td>NaN</td>\n",
       "      <td>NaN</td>\n",
       "      <td>NaN</td>\n",
       "      <td>NaN</td>\n",
       "      <td>NaN</td>\n",
       "      <td>NaN</td>\n",
       "      <td>NaN</td>\n",
       "      <td>NaN</td>\n",
       "      <td>NaN</td>\n",
       "      <td>NaN</td>\n",
       "      <td>NaN</td>\n",
       "      <td>Request rejected with options  1. Travel on o...</td>\n",
       "    </tr>\n",
       "  </tbody>\n",
       "</table>\n",
       "</div>"
      ],
      "text/plain": [
       "          purpose                                             policy    cost  \\\n",
       "1  customer work   System(Content) – Travel Restrictions in Place...   19000   \n",
       "2  customer work   System(Content) – Travel Restrictions in Place...     NaN   \n",
       "3             NaN  System(Content) – Travel allowed for reputed e...     NaN   \n",
       "4  customer work   System(Content) – Travel allowed for valid bus...     NaN   \n",
       "\n",
       "                                        PNR number        strategic customer  \\\n",
       "1   Product - Lotus Notes, Sev 2, Open for 10 days   ISA Top 20 Excel sheet    \n",
       "2                                              NaN                       NaN   \n",
       "3                                              NaN                       NaN   \n",
       "4                                              NaN                       NaN   \n",
       "\n",
       "    revenue open opportunities                       closure      sentiments  \\\n",
       "1   USD100M                  5   78900000, Deal size - Large   HIGH NEGATIVE   \n",
       "2       NaN                NaN                           NaN             NaN   \n",
       "3       NaN                NaN                           NaN             NaN   \n",
       "4       NaN                NaN                           NaN             NaN   \n",
       "\n",
       "             Owner        Mail          Reminder Navjot Dept Code safety tips  \\\n",
       "1   Navjot Bhogal    Approved    Navjot says YES         UIE and         Tips   \n",
       "2              NaN         NaN               NaN              NaN         NaN   \n",
       "3              NaN         NaN               NaN              NaN         NaN   \n",
       "4              NaN         NaN               NaN              NaN         NaN   \n",
       "\n",
       "                                      Recommendation  \n",
       "1   Your travel request is approved. Pl. follow t...  \n",
       "2                       Travel approval mail to Emp.  \n",
       "3                         Your travel is approved.    \n",
       "4   Request rejected with options  1. Travel on o...  "
      ]
     },
     "execution_count": 25,
     "metadata": {},
     "output_type": "execute_result"
    }
   ],
   "source": [
    "index=[i+1 for i in range(len(case))] # Index row number to be fed into Pandas\n",
    "cases_dict= dict()\n",
    "frames= list()\n",
    "for i in index:\n",
    "    toenter= {i : case[i-1]}\n",
    "    cases_dict.update(toenter)\n",
    "#cases_dict # Dictionary of all the text\n",
    "for k,v in cases_dict.items():\n",
    "    firstlist= list()\n",
    "    secondlist= list()\n",
    "    #print(k)\n",
    "    start_second=find_index(v)\n",
    "    #print(start_second)\n",
    "    if start_second != None:\n",
    "        firstlist=first_strategy(v,0,start_second)\n",
    "        secondlist=second_strategy(v,start_second+1,len(v))\n",
    "        #print(secondlist)\n",
    "    else:\n",
    "        firstlist=first_strategy(v,0,len(v))\n",
    "    #print(secondlist)\n",
    "    recommendation=('Recommendation',(v[len(v)-1]).split(split)[1])\n",
    "    finallist= firstlist+secondlist+[recommendation]\n",
    "    df=convert_to_dataframe(finallist,[k])\n",
    "    frames.append(df)\n",
    "res= pd.concat(frames)\n",
    "res= res[frames[0].columns]\n",
    "res"
   ]
  },
  {
   "cell_type": "markdown",
   "metadata": {},
   "source": [
    "## 5.5 Save results as csv"
   ]
  },
  {
   "cell_type": "code",
   "execution_count": 26,
   "metadata": {},
   "outputs": [],
   "source": [
    "csv_file=res.to_csv(file_name, sep='\\t', encoding='utf-8')\n",
    "path='/home/dsxuser/work'+file_name"
   ]
  },
  {
   "cell_type": "code",
   "execution_count": 27,
   "metadata": {},
   "outputs": [
    {
     "data": {
      "text/plain": [
       "{'ETag': '\"06a07b6695854b7e5cf37d34d67c88df\"',\n",
       " 'ResponseMetadata': {'HTTPHeaders': {'content-length': '0',\n",
       "   'date': 'Fri, 08 Jun 2018 09:02:38 GMT',\n",
       "   'etag': '\"06a07b6695854b7e5cf37d34d67c88df\"',\n",
       "   'server': '3.13.3.49',\n",
       "   'x-amz-request-id': '867d207f-c26b-42cb-8e73-bf1f3bc0267d',\n",
       "   'x-clv-request-id': '867d207f-c26b-42cb-8e73-bf1f3bc0267d',\n",
       "   'x-clv-s3-version': '2.5'},\n",
       "  'HTTPStatusCode': 200,\n",
       "  'HostId': '',\n",
       "  'RequestId': '867d207f-c26b-42cb-8e73-bf1f3bc0267d',\n",
       "  'RetryAttempts': 0}}"
      ]
     },
     "execution_count": 27,
     "metadata": {},
     "output_type": "execute_result"
    }
   ],
   "source": [
    "def put_file(filename, filecontents):\n",
    "    '''Write file to Cloud Object Storage'''\n",
    "    resp = cos.put_object(Bucket=credentials_1['BUCKET'], Key=filename, Body=filecontents)\n",
    "    return resp\n",
    "put_file(file_name, path)"
   ]
  },
  {
   "cell_type": "code",
   "execution_count": null,
   "metadata": {},
   "outputs": [],
   "source": []
  }
 ],
 "metadata": {
  "kernelspec": {
   "display_name": "Python 3.5",
   "language": "python",
   "name": "python3"
  },
  "language_info": {
   "codemirror_mode": {
    "name": "ipython",
    "version": 3
   },
   "file_extension": ".py",
   "mimetype": "text/x-python",
   "name": "python",
   "nbconvert_exporter": "python",
   "pygments_lexer": "ipython3",
   "version": "3.5.4"
  }
 },
 "nbformat": 4,
 "nbformat_minor": 2
}
